{
  "cells": [
    {
      "cell_type": "markdown",
      "metadata": {
        "id": "view-in-github",
        "colab_type": "text"
      },
      "source": [
        "<a href=\"https://colab.research.google.com/github/supinhooda/PWstatistics/blob/main/2_1_Chi_Square_Test_With_Python.ipynb\" target=\"_parent\"><img src=\"https://colab.research.google.com/assets/colab-badge.svg\" alt=\"Open In Colab\"/></a>"
      ]
    },
    {
      "cell_type": "markdown",
      "id": "c68fecf8-a73f-4fbd-978f-d75de56625fe",
      "metadata": {
        "id": "c68fecf8-a73f-4fbd-978f-d75de56625fe"
      },
      "source": [
        "## Chi Square Test With Python"
      ]
    },
    {
      "cell_type": "code",
      "execution_count": 1,
      "id": "53f2f5ea-cfeb-4c8f-9557-5ee5b76d8dae",
      "metadata": {
        "id": "53f2f5ea-cfeb-4c8f-9557-5ee5b76d8dae"
      },
      "outputs": [],
      "source": [
        "import scipy.stats as stat\n",
        "import numpy as np"
      ]
    },
    {
      "cell_type": "code",
      "execution_count": 2,
      "id": "8afde734-19ce-4814-b232-2dfb5fb3d000",
      "metadata": {
        "id": "8afde734-19ce-4814-b232-2dfb5fb3d000"
      },
      "outputs": [],
      "source": [
        "## No of hours student study in a weekly basis daily\n",
        "##monday,tuesday,Wednesday,thursday,Friday,Saturday,sunday\n",
        "expected_data=[8,6,7,9,6,9,7]\n",
        "observed_data=[7,8,6,9,9,6,7]"
      ]
    },
    {
      "cell_type": "code",
      "execution_count": 3,
      "id": "d9f99133-b67b-44ab-95a4-d73f1485085e",
      "metadata": {
        "colab": {
          "base_uri": "https://localhost:8080/"
        },
        "id": "d9f99133-b67b-44ab-95a4-d73f1485085e",
        "outputId": "5a43980c-dca8-41a1-826b-44e70328adde"
      },
      "outputs": [
        {
          "output_type": "execute_result",
          "data": {
            "text/plain": [
              "(52, 52)"
            ]
          },
          "metadata": {},
          "execution_count": 3
        }
      ],
      "source": [
        "sum(expected_data),sum(observed_data)"
      ]
    },
    {
      "cell_type": "code",
      "execution_count": 4,
      "id": "0877666b-699f-4265-8994-501d07d7575a",
      "metadata": {
        "id": "0877666b-699f-4265-8994-501d07d7575a"
      },
      "outputs": [],
      "source": [
        "## Chi-Square Goodness Of Fit Test\n",
        "chisquare_test_statistic,p_value=stat.chisquare(observed_data,expected_data)"
      ]
    },
    {
      "cell_type": "code",
      "execution_count": 5,
      "id": "8b621eeb-1c1a-4d30-9745-e7fdc9e8519d",
      "metadata": {
        "colab": {
          "base_uri": "https://localhost:8080/"
        },
        "id": "8b621eeb-1c1a-4d30-9745-e7fdc9e8519d",
        "outputId": "534661f6-92c2-4699-f9ec-e8f7ba128329"
      },
      "outputs": [
        {
          "output_type": "execute_result",
          "data": {
            "text/plain": [
              "(3.4345238095238093, 0.7526596580922865)"
            ]
          },
          "metadata": {},
          "execution_count": 5
        }
      ],
      "source": [
        "chisquare_test_statistic,p_value"
      ]
    },
    {
      "cell_type": "code",
      "execution_count": 6,
      "id": "699dc7b0-0150-4b8c-a7e7-8c2112be2f2c",
      "metadata": {
        "colab": {
          "base_uri": "https://localhost:8080/"
        },
        "id": "699dc7b0-0150-4b8c-a7e7-8c2112be2f2c",
        "outputId": "d701a7d8-f8e0-4c59-ba78-7b2bb0b7da17"
      },
      "outputs": [
        {
          "output_type": "stream",
          "name": "stdout",
          "text": [
            "6\n"
          ]
        }
      ],
      "source": [
        "## find the critical value\n",
        "significane_value=0.05\n",
        "dof=len(expected_data)-1\n",
        "print(dof)\n",
        "critical_value=stat.chi2.ppf(1-significane_value,dof)"
      ]
    },
    {
      "cell_type": "code",
      "execution_count": 7,
      "id": "aa233891-d7be-4e41-b539-86e7bdeab8aa",
      "metadata": {
        "colab": {
          "base_uri": "https://localhost:8080/"
        },
        "id": "aa233891-d7be-4e41-b539-86e7bdeab8aa",
        "outputId": "3904417f-5b31-4d58-e577-bc26ccee70d5"
      },
      "outputs": [
        {
          "output_type": "execute_result",
          "data": {
            "text/plain": [
              "12.591587243743977"
            ]
          },
          "metadata": {},
          "execution_count": 7
        }
      ],
      "source": [
        "critical_value"
      ]
    },
    {
      "cell_type": "code",
      "execution_count": 8,
      "id": "e54e9d32-bed9-4189-bc15-d632ee1c6946",
      "metadata": {
        "colab": {
          "base_uri": "https://localhost:8080/"
        },
        "id": "e54e9d32-bed9-4189-bc15-d632ee1c6946",
        "outputId": "0cbb9aa4-8a2e-4b91-d02a-234ec811cea3"
      },
      "outputs": [
        {
          "output_type": "stream",
          "name": "stdout",
          "text": [
            "Accept the null hypothesis\n"
          ]
        }
      ],
      "source": [
        "if chisquare_test_statistic > critical_value:\n",
        "    print(\"Reject the null hypothesis\")\n",
        "else:\n",
        "    print(\"Accept the null hypothesis\")"
      ]
    },
    {
      "cell_type": "code",
      "execution_count": 8,
      "id": "3b629d34-dd8e-45d4-9a9b-cb0bf603fc14",
      "metadata": {
        "id": "3b629d34-dd8e-45d4-9a9b-cb0bf603fc14"
      },
      "outputs": [],
      "source": []
    },
    {
      "cell_type": "code",
      "execution_count": 8,
      "id": "77042b70-3ec6-4081-a647-d81bab5c8f97",
      "metadata": {
        "id": "77042b70-3ec6-4081-a647-d81bab5c8f97"
      },
      "outputs": [],
      "source": []
    },
    {
      "cell_type": "code",
      "execution_count": 8,
      "id": "e29ffa32-3560-4a05-b19f-f90a79a84681",
      "metadata": {
        "id": "e29ffa32-3560-4a05-b19f-f90a79a84681"
      },
      "outputs": [],
      "source": []
    },
    {
      "cell_type": "code",
      "execution_count": 8,
      "id": "e7d79360-c6b5-49e6-902f-a3cb6e12b1ab",
      "metadata": {
        "id": "e7d79360-c6b5-49e6-902f-a3cb6e12b1ab"
      },
      "outputs": [],
      "source": []
    },
    {
      "cell_type": "code",
      "execution_count": 8,
      "id": "478a09ce-ea2d-4965-8dbe-4a6a1a525a05",
      "metadata": {
        "id": "478a09ce-ea2d-4965-8dbe-4a6a1a525a05"
      },
      "outputs": [],
      "source": []
    },
    {
      "cell_type": "code",
      "execution_count": 8,
      "id": "658efef9-e235-4e7d-927f-5f83dbc15862",
      "metadata": {
        "id": "658efef9-e235-4e7d-927f-5f83dbc15862"
      },
      "outputs": [],
      "source": []
    },
    {
      "cell_type": "code",
      "execution_count": 8,
      "id": "e0710202-50b4-49d9-b8dc-cfa1261f911a",
      "metadata": {
        "id": "e0710202-50b4-49d9-b8dc-cfa1261f911a"
      },
      "outputs": [],
      "source": []
    },
    {
      "cell_type": "code",
      "execution_count": 8,
      "id": "3201d288-0157-4cdd-ae89-174a890c31ba",
      "metadata": {
        "id": "3201d288-0157-4cdd-ae89-174a890c31ba"
      },
      "outputs": [],
      "source": []
    }
  ],
  "metadata": {
    "kernelspec": {
      "display_name": "Python 3 (ipykernel)",
      "language": "python",
      "name": "python3"
    },
    "language_info": {
      "codemirror_mode": {
        "name": "ipython",
        "version": 3
      },
      "file_extension": ".py",
      "mimetype": "text/x-python",
      "name": "python",
      "nbconvert_exporter": "python",
      "pygments_lexer": "ipython3",
      "version": "3.10.8"
    },
    "colab": {
      "provenance": [],
      "include_colab_link": true
    }
  },
  "nbformat": 4,
  "nbformat_minor": 5
}